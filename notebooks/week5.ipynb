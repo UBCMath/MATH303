{
 "cells": [
  {
   "cell_type": "markdown",
   "metadata": {},
   "source": [
    "# Week 5: Branching Processes\n",
    "\n",
    "This week, we introduce and study the Galton Watson process, which is a fundamental example of so-called *branching process*. This process can be seen as a model for counting a population of individuals over generations.\n",
    "\n",
    "For such a process, we associate a *reproduction law*, which describes the probability distribution of offspring from each individual. Following the example introduced in the problem 2 of this week's homework, let us consider the uniform distribution on $\\left\\{0,1,2,3 \\right\\}$ as our reproduction law $\\pi$."
   ]
  },
  {
   "cell_type": "code",
   "execution_count": 3,
   "metadata": {},
   "outputs": [],
   "source": [
    "import numpy as np\n",
    "# Change S to change the support of pi\n",
    "S = [0,1,2,3]\n",
    "# Define the distribution pi here:\n",
    "pi = [1/4., 1/4., 1/4., 1/4.]\n"
   ]
  },
  {
   "cell_type": "markdown",
   "metadata": {},
   "source": [
    "We now simulate the branching process for 10 generations. For $n\\geq 0$, the population size at time $n+1$ is $Z_{n+1} = \\sum_{i=0}^{Z_n}X_{n,i}$ if $Z_n\\geq 1$, and 0 if $Z_n=0$, where the $X_{n,i}$ are iid with law $\\pi$. The next cell simulates and plots one trajectory.\n"
   ]
  },
  {
   "cell_type": "code",
   "execution_count": 4,
   "metadata": {},
   "outputs": [
    {
     "data": {
      "text/plain": [
       "[<matplotlib.lines.Line2D at 0x7f842e2d4dd8>]"
      ]
     },
     "execution_count": 4,
     "metadata": {},
     "output_type": "execute_result"
    },
    {
     "data": {
      "image/png": "[encoded data removed]",
      "text/plain": [
       "<Figure size 576x288 with 1 Axes>"
      ]
     },
     "metadata": {
      "needs_background": "light"
     },
     "output_type": "display_data"
    }
   ],
   "source": [
    "N = 10  # Specify the number of generations       \n",
    "Z0 = 1  # Specify the initial population size  \n",
    "Z=[]\n",
    "Z.append(Z0)\n",
    "\n",
    "# Run the process up until N steps or until \n",
    "# there are no individuals for some generation.\n",
    "i=1\n",
    "while (i<= N-1) and (Z[-1] > 0):\n",
    "    # Creating the next generation\n",
    "    # https://numpy.org/doc/stable/reference/random/generated/numpy.random.choice.html\n",
    "    # We look at the offspring of each individual of the last generation having been computed.\n",
    "    next_gen = np.sum(np.random.choice(S, Z[-1], p = pi))\n",
    "    Z.append(next_gen)\n",
    "    # Increment counter\n",
    "    i+=1\n",
    "    \n",
    "# Plot the trajectory obtained    \n",
    "import matplotlib.pyplot as plt\n",
    "fig, ax = plt.subplots(1, 1, figsize=(8, 4))\n",
    "ax.set_xlabel(\"t [generations]\")\n",
    "ax.set_ylabel(\"Number of individuals at t\")\n",
    "ax.plot(Z, lw=2)"
   ]
  },
  {
   "cell_type": "markdown",
   "metadata": {},
   "source": [
    "In the course, we study the probability of extinction or survival associated with the process. By simulating the process many times, we can also estimate these quantities. The following code runs the process for N generations and over M times. By reading the code, can you tell what empirical probability is extracted?"
   ]
  },
  {
   "cell_type": "code",
   "execution_count": 5,
   "metadata": {},
   "outputs": [
    {
     "name": "stdout",
     "output_type": "stream",
     "text": [
      "p_e =  0.4172\n"
     ]
    }
   ],
   "source": [
    "import numpy as np\n",
    "Ntraj= 5000 #specify the number of trajectories (Ntraj=1 for a single trajectory)\n",
    "Ngen= 20 #specify the number of generations (be careful to not select Ngen too large when your the population explodes in time)\n",
    "\n",
    "E = []\n",
    "\n",
    "for m in range(Ntraj):\n",
    "\n",
    "    Z = [] # Record the total number of indiviuals in each generation\n",
    "    Z.append(1) # Initialize with Z0=1\n",
    "\n",
    "    # Run the process \n",
    "    i=1\n",
    "\n",
    "    while (i<= Ngen-1) and (Z[-1] > 0):\n",
    "        # Creating the next generation\n",
    "        # https://numpy.org/doc/stable/reference/random/generated/numpy.random.choice.html\n",
    "        # We look at the offspring of each individual of the last generation having been computed.\n",
    "        next_gen = np.sum(np.random.choice(4, Z[-1], p=pi))\n",
    "        Z.append(next_gen)\n",
    "        # Increment counter\n",
    "        i+=1\n",
    "    \n",
    "    E.append((Z[-1] == 0)) # Question: what do we record here? ANSWER: Extinction event\n",
    "    \n",
    "    # Computing an empirical probability from an array of 0's and 1's.\n",
    "p_e = np.sum(E)/Ntraj\n",
    "print(\"p_e = \", p_e)"
   ]
  },
  {
   "cell_type": "markdown",
   "metadata": {},
   "source": [
    "Using the code above, you can implement and simulate the branching processes for different reproduction laws. In particular, look at what happens to the probability of extinction when the mean of the reproduction law is <,= or >1.\n",
    "To sample the offsprings from other distributions, take a look at the different functions available in the numpy random library:\n",
    "https://numpy.org/doc/1.16/reference/routines.random.html"
   ]
  },
  {
   "cell_type": "markdown",
   "metadata": {},
   "source": [
    "## Branching process with immigration (Homework problem 4)\n",
    "\n",
    "We now implement $Z_{n+1}=I_n + \\sum_{i=1}^{Z_n} X_{n,i}$ where the $Z_n$ are i.i. $Binomial(1,p)$-distributed and the $I_n$ are i.i. $Poisson(\\mu)$-distributed. Here $0<p<1$, $\\mu>0$ and the $Z_n$ are independent of the $I_n$. Furthmore, assume that $Z_0=1$ and $I_0=0$. To do so, we can modify the original branching process"
   ]
  },
  {
   "cell_type": "code",
   "execution_count": 22,
   "metadata": {},
   "outputs": [
    {
     "data": {
      "text/plain": [
       "<matplotlib.legend.Legend at 0x7f9df123b100>"
      ]
     },
     "execution_count": 22,
     "metadata": {},
     "output_type": "execute_result"
    },
    {
     "data": {
      "image/png": "[encoded data removed]",
      "text/plain": [
       "<Figure size 576x288 with 1 Axes>"
      ]
     },
     "metadata": {
      "needs_background": "light"
     },
     "output_type": "display_data"
    }
   ],
   "source": [
    "import numpy as np\n",
    "import matplotlib.pyplot as plt\n",
    "import scipy.stats as st\n",
    "\n",
    "Ntraj= 100 #specify the number of trajectories (Ntraj=1 for a single trajectory)\n",
    "Ngen= 10 #specify the number of generations (be careful to not select Ngen too large when your the population explodes in time)\n",
    "Z_array = np.zeros((Ntraj, Ngen), dtype=int) #Record all the trajectories\n",
    "\n",
    "p = 3/4 #Specify the parameter of the binomial e.g. 1/4.\n",
    "mu = 1 #Specify the parameter of the Poisson e.g. 1.\n",
    "\n",
    "for n in range(Ntraj):\n",
    "    \n",
    "    Z=[]\n",
    "    Z.append(1) # Initialize\n",
    "\n",
    "    # Run the process \n",
    "    for i in range(Ngen-1):\n",
    "        # Creating the next generation\n",
    "        # https://numpy.org/doc/stable/reference/random/generated/numpy.random.choice.html\n",
    "        # We look at the offspring of each individual of the last generation computed.\n",
    "        next_gen = np.sum(np.random.binomial(1, p, size=Z[-1])) # ADD SOLUTION HERE\n",
    "        immigrants = np.random.poisson(mu) #ADD SOLUTION HERE\n",
    "        Z.append(next_gen+immigrants)\n",
    "        # Increment counter\n",
    "        i+=1\n",
    "    \n",
    "    Z_array[n,:len(Z)]=Z \n",
    "\n",
    "# Plot the Normalized histogram and compare with a Poisson pmf\n",
    "#See https://docs.scipy.org/doc/scipy/reference/generated/scipy.stats.poisson.html\n",
    "m=max(Z_array[:,-1])\n",
    "fig, ax = plt.subplots(1, 1, figsize=(8, 4))\n",
    "ax.set_xlabel(\"histogram bin\")\n",
    "ax.set_ylabel(\"Zn\")\n",
    "plt.hist(Z_array[:,-1],bins=np.arange(m), density=True, width=0.1,label='empirical pmf')\n",
    "poisson_pmf = st.poisson.pmf(np.arange(m),mu/(1-p)) #ADD SOLUTION HERE\n",
    "plt.bar(np.arange(m)+0.2, poisson_pmf,color='r',width = 0.1, label='Poisson(mu/(1-p)) pmf')\n",
    "ax.legend(loc='best', frameon=False)\n",
    "\n"
   ]
  },
  {
   "cell_type": "markdown",
   "metadata": {},
   "source": [
    "This plot shows that $Z_n$ can be approximated by a $Poisson\\left(\\frac{\\mu}{1-p}\\right)$."
   ]
  },
  {
   "cell_type": "code",
   "execution_count": null,
   "metadata": {},
   "outputs": [],
   "source": []
  }
 ],
 "metadata": {
  "kernelspec": {
   "display_name": "Python 3",
   "language": "python",
   "name": "python3"
  },
  "language_info": {
   "codemirror_mode": {
    "name": "ipython",
    "version": 3
   },
   "file_extension": ".py",
   "mimetype": "text/x-python",
   "name": "python",
   "nbconvert_exporter": "python",
   "pygments_lexer": "ipython3",
   "version": "3.7.3"
  }
 },
 "nbformat": 4,
 "nbformat_minor": 4
}
