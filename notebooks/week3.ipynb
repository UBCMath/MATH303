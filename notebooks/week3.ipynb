{
 "cells": [
  {
   "cell_type": "code",
   "execution_count": null,
   "metadata": {},
   "outputs": [],
   "source": [
    "import numpy as np\n",
    "import matplotlib.pyplot as plt\n",
    "import matplotlib.animation as animation"
   ]
  },
  {
   "cell_type": "markdown",
   "metadata": {
    "slideshow": {
     "slide_type": "slide"
    }
   },
   "source": [
    "# Recurrence and transience of $d$-dimensional random walks"
   ]
  },
  {
   "cell_type": "markdown",
   "metadata": {},
   "source": [
    "During week 1, we reviewed the 1D random walk. Here we study how to simulate and visualize the process in higher dimension. \n",
    "\n",
    "## The 2-dimensional random walk\n",
    "The following code simulates a 2-dimensional random walk with different probabilities to go N,S,E,W. You can play with these parameters and check that the Simple Random Walk (SRW) is quite different."
   ]
  },
  {
   "cell_type": "code",
   "execution_count": null,
   "metadata": {},
   "outputs": [],
   "source": [
    "# probabilities for your \n",
    "# 2D random walk\n",
    "\n",
    "[p_N,p_S,p_E,p_W] = [1/4,1/4,1/4,1/4] # = [1/4,1/4,1/4,1/4] for the SRW\n",
    "\n",
    "# number of steps of the walk\n",
    "n_steps = 100000\n",
    "\n",
    "# starting point\n",
    "start = [0,0]\n",
    "\n",
    "# run the walk\n",
    "x = [start[0]]\n",
    "y = [start[1]]\n",
    "counter = 1\n",
    "while counter < n_steps:\n",
    "    U = np.random.rand()\n",
    "    if 0 < U <= p_N:\n",
    "        # going north\n",
    "        x.append(x[-1] + 1) \n",
    "        y.append(y[-1])\n",
    "    elif p_N < U <= p_N + p_S:\n",
    "        # going south\n",
    "        x.append(x[-1] - 1) \n",
    "        y.append(y[-1])\n",
    "    elif p_N + p_S < U <= p_N + p_S+ p_E:\n",
    "        # going east\n",
    "        x.append(x[-1])\n",
    "        y.append(y[-1]+1)\n",
    "    else:\n",
    "        # going west\n",
    "        x.append(x[-1])\n",
    "        y.append(y[-1]-1)\n",
    "    counter += 1\n"
   ]
  },
  {
   "cell_type": "code",
   "execution_count": null,
   "metadata": {},
   "outputs": [],
   "source": [
    "# Plot the 2D-path\n",
    "fig = plt.figure(figsize=(4,4),dpi=200)\n",
    "ax = fig.add_subplot(111)\n",
    "plt.grid(color='black', linestyle='-', linewidth=0.1)\n",
    "ax.scatter(y, x,c='blue',alpha=0.25,s=0.05);\n",
    "ax.plot(y, x,c='blue',alpha=0.5,lw=0.25,ls='-');\n",
    "ax.scatter(y[0], x[0],c='red', marker='+')\n",
    "ax.scatter(y[-1], x[-1],c='black', marker='x')\n",
    "plt.title('2 dimensional random walk')\n",
    "plt.tight_layout(pad=0)"
   ]
  },
  {
   "cell_type": "markdown",
   "metadata": {},
   "source": [
    "In the homework, we show that the process is recurrent."
   ]
  },
  {
   "cell_type": "markdown",
   "metadata": {},
   "source": [
    "## The 3-dimensional random walk\n",
    "\n",
    "In the lecture, we note that walk is transient in 3D. Let's simulate the walk and see how we can estimate the probability of return."
   ]
  },
  {
   "cell_type": "code",
   "execution_count": null,
   "metadata": {},
   "outputs": [],
   "source": [
    "# number of steps\n",
    "n_steps = 10**3\n",
    "\n",
    "# starting point\n",
    "start = [0,0,0]\n",
    "\n",
    "# run the walk\n",
    "x = [start[0]]\n",
    "y = [start[1]]\n",
    "z = [start[2]]\n",
    "\n",
    "counter = 1\n",
    "while counter < n_steps:\n",
    "    # choose a random direction  \n",
    "    vec = np.random.randint(1,4)\n",
    "    orient = np.random.randint(0,2)*2-1 ## = to -1 or 1 with proba 1/2\n",
    "    if vec ==1:\n",
    "        x.append(x[-1]+orient)\n",
    "        y.append(y[-1])\n",
    "        z.append(z[-1])\n",
    "    if vec ==2:\n",
    "        x.append(x[-1])\n",
    "        y.append(y[-1]+orient)\n",
    "        z.append(z[-1])\n",
    "    else:\n",
    "        x.append(x[-1])\n",
    "        y.append(y[-1])\n",
    "        z.append(z[-1]+orient)\n",
    "    counter += 1"
   ]
  },
  {
   "cell_type": "code",
   "execution_count": null,
   "metadata": {},
   "outputs": [],
   "source": [
    "# Plotting the simulations\n",
    "fig = plt.figure(figsize=(4,4),dpi=200)\n",
    "ax = plt.axes(projection='3d')\n",
    "ax.plot3D(z, y, x, 'blue')\n",
    "ax.scatter(z[0],y[0], x[0],c='red', marker='+')\n",
    "ax.scatter(z[-1],y[-1], x[-1],c='black', marker='x')\n",
    "plt.title('3 dimensional random walk')"
   ]
  },
  {
   "cell_type": "markdown",
   "metadata": {},
   "source": [
    "Hereafter is a function which allows you to compute the number of visits to zero for the three dimensional random walks."
   ]
  },
  {
   "cell_type": "code",
   "execution_count": null,
   "metadata": {},
   "outputs": [],
   "source": [
    "def visits_to_zero_3d(n_simulations,n_steps):\n",
    "    hist = {1:0} # Initialize the histogram as a dictionnary\n",
    "    for i in range(n_simulations):\n",
    "        # number of steps\n",
    "\n",
    "        # starting point\n",
    "        start = [0,0,0]\n",
    "\n",
    "        # run the walk\n",
    "        x = [start[0]]\n",
    "        y = [start[1]]\n",
    "        z = [start[2]]\n",
    "        zero_count = 1 #you start at one so get +1 for free\n",
    "        for j in range(n_steps):\n",
    "            # choose a random direction  \n",
    "            vec = np.random.randint(1,4)\n",
    "            orient = np.random.randint(0,2)*2-1 ## = to -1 or 1 with proba 1/2\n",
    "            if vec ==1: #choose a direction and then an orientation\n",
    "                x.append(x[-1]+orient)\n",
    "                y.append(y[-1])\n",
    "                z.append(z[-1])\n",
    "            if vec ==2:\n",
    "                x.append(x[-1])\n",
    "                y.append(y[-1]+orient)\n",
    "                z.append(z[-1])\n",
    "            else:\n",
    "                x.append(x[-1])\n",
    "                y.append(y[-1])\n",
    "                z.append(z[-1]+orient)  \n",
    "            zero_count += (x[-1]==y[-1]==z[-1]==0)\n",
    "        if zero_count in hist:\n",
    "                hist[zero_count] += 1\n",
    "        else:\n",
    "                hist[zero_count] = 1\n",
    "    return hist"
   ]
  },
  {
   "cell_type": "code",
   "execution_count": null,
   "metadata": {},
   "outputs": [],
   "source": [
    "# Plotting the result of the function\n",
    "\n",
    "n_simulations =10**2\n",
    "n_steps=10**3\n",
    "\n",
    "# Get the histogram\n",
    "# and renormalize the probability distribution\n",
    "hist = visits_to_zero_3d(n_simulations,n_steps)\n",
    "print(hist)\n",
    "total = sum(hist.values())\n",
    "factor = 1/total\n",
    "\n",
    "normalized_hist =  {key:value*factor for key,value in hist.items()}\n",
    "\n",
    "plt.title('empirical distribution of the number of visits to 0')\n",
    "plt.bar(list(normalized_hist.keys()), normalized_hist.values(), color='g', width=0.4)\n",
    "plt.show()"
   ]
  },
  {
   "cell_type": "code",
   "execution_count": null,
   "metadata": {},
   "outputs": [],
   "source": []
  },
  {
   "cell_type": "code",
   "execution_count": null,
   "metadata": {},
   "outputs": [],
   "source": []
  }
 ],
 "metadata": {
  "kernelspec": {
   "display_name": "Python 3",
   "language": "python",
   "name": "python3"
  },
  "language_info": {
   "codemirror_mode": {
    "name": "ipython",
    "version": 3
   },
   "file_extension": ".py",
   "mimetype": "text/x-python",
   "name": "python",
   "nbconvert_exporter": "python",
   "pygments_lexer": "ipython3",
   "version": "3.7.12"
  }
 },
 "nbformat": 4,
 "nbformat_minor": 4
}
